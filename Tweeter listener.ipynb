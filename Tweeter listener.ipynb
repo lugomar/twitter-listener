{
 "cells": [
  {
   "cell_type": "code",
   "execution_count": 1,
   "metadata": {},
   "outputs": [],
   "source": [
    "import tweepy\n",
    "import time\n",
    "import json\n",
    "import io\n",
    "from random import uniform\n",
    "import time\n",
    "from IPython.display import display, clear_output\n",
    "#https://developer.twitter.com/en/docs/basics/rate-limiting.html\n",
    "#https://developer.twitter.com/en/apps"
   ]
  },
  {
   "cell_type": "code",
   "execution_count": 2,
   "metadata": {},
   "outputs": [],
   "source": [
    "class MyStreamListener(tweepy.StreamListener):\n",
    "    def write_to_file():\n",
    "        try:\n",
    "            display(\"Writing tweets to file \"+self.write_to_file+\".json\")\n",
    "            display(\"Tweets: \"+str(len(self.tweet_data)))\n",
    "            saveFile = io.open(\"\"+self.write_to_file+\".json\", 'a', encoding='utf-8')\n",
    "            for tweet in self.tweet_data:\n",
    "                saveFile.write(data)\n",
    "                saveFile.write(',')\n",
    "            saveFile.close()\n",
    "            display(\"Tweets writen!\")\n",
    "            time.sleep(3)  \n",
    "            self.tweet_data = []\n",
    "        except Exception as e:\n",
    "            print(\"ERROR: {}\".format(e))            \n",
    "    def on_status(self, status): \n",
    "        #code to run each time the stream receives a status\n",
    "        print(status)\n",
    "        print(status.text)\n",
    "    def on_direct_message(self, status): \n",
    "        #code to run each time the stream receives a direct message\n",
    "        print(status)\n",
    "        print(status.text)\n",
    "    def __init__(self, start_time, time_limit=900,file=\"raw_tweets\"):\n",
    "        self.time = start_time\n",
    "        self.limit = time_limit\n",
    "        self.tweet_data = []\n",
    "        self.write_to_file = file\n",
    "        self.total_tweets = 0\n",
    "    def on_data(self, data):\n",
    "        clear_output(wait=True)\n",
    "        display('Time: '+str(round((time.time() - self.time)/60,3))+' Min. |  Remaining time: '+str(round((self.limit-(time.time() - self.time))/60,3))+\" Min.\")\n",
    "        display('Total tweets: '+str(self.total_tweets))\n",
    "        if ((time.time() - self.time) < self.limit):\n",
    "            all_data = json.loads(data)\n",
    "            if 'text' in all_data:\n",
    "                self.total_tweets = self.total_tweets + 1\n",
    "                self.tweet_data.append(data)\n",
    "                if (len(self.tweet_data)>0 and len(self.tweet_data)%2==0):\n",
    "                    self.write_to_file()\n",
    "            else:\n",
    "                print(\"Not a tweet!\")\n",
    "                print(data)\n",
    "            time.sleep(1)    \n",
    "            return True\n",
    "        else:\n",
    "            display(\"Time up! closing stream...\")\n",
    "            if (len(self.tweet_data)>0):\n",
    "                display(\"Writing Remaining tweets...\")\n",
    "                self.write_to_file()\n",
    "            time.sleep(1)\n",
    "        return False\n",
    "    def on_error(self, status_code):\n",
    "        #code to run each time an error is received\n",
    "        if status_code == 420:\n",
    "            print(\"Returned when an app is being rate limited for making too many requests.\")\n",
    "            return False\n",
    "        else:\n",
    "            return True\n",
    "       "
   ]
  },
  {
   "cell_type": "code",
   "execution_count": 3,
   "metadata": {},
   "outputs": [
    {
     "data": {
      "text/plain": [
       "'Begin Stream Listener'"
      ]
     },
     "metadata": {},
     "output_type": "display_data"
    },
    {
     "name": "stdout",
     "output_type": "stream",
     "text": [
      "Returned when an app is being rate limited for making too many requests.\n"
     ]
    },
    {
     "data": {
      "text/plain": [
       "'Sleeping for: 1.0 minutes in order to avoid limit rate...'"
      ]
     },
     "metadata": {},
     "output_type": "display_data"
    },
    {
     "ename": "KeyboardInterrupt",
     "evalue": "",
     "output_type": "error",
     "traceback": [
      "\u001b[0;31m---------------------------------------------------------------------------\u001b[0m",
      "\u001b[0;31mKeyboardInterrupt\u001b[0m                         Traceback (most recent call last)",
      "\u001b[0;32m<ipython-input-3-c3c2e33e4299>\u001b[0m in \u001b[0;36m<module>\u001b[0;34m\u001b[0m\n\u001b[1;32m     20\u001b[0m     \u001b[0mmyStream\u001b[0m\u001b[0;34m.\u001b[0m\u001b[0mfilter\u001b[0m\u001b[0;34m(\u001b[0m\u001b[0mtrack\u001b[0m\u001b[0;34m=\u001b[0m\u001b[0;34m[\u001b[0m\u001b[0;34m'موت'\u001b[0m\u001b[0;34m]\u001b[0m\u001b[0;34m,\u001b[0m\u001b[0mlanguages\u001b[0m\u001b[0;34m=\u001b[0m\u001b[0;34m[\u001b[0m\u001b[0;34m'ur'\u001b[0m\u001b[0;34m]\u001b[0m\u001b[0;34m)\u001b[0m\u001b[0;34m\u001b[0m\u001b[0;34m\u001b[0m\u001b[0m\n\u001b[1;32m     21\u001b[0m     \u001b[0mdisplay\u001b[0m\u001b[0;34m(\u001b[0m\u001b[0;34m\"Sleeping for: \"\u001b[0m\u001b[0;34m+\u001b[0m\u001b[0mstr\u001b[0m\u001b[0;34m(\u001b[0m\u001b[0mround\u001b[0m\u001b[0;34m(\u001b[0m\u001b[0mSleep_time_seconds\u001b[0m\u001b[0;34m/\u001b[0m\u001b[0;36m60\u001b[0m\u001b[0;34m,\u001b[0m\u001b[0;36m3\u001b[0m\u001b[0;34m)\u001b[0m\u001b[0;34m)\u001b[0m\u001b[0;34m+\u001b[0m\u001b[0;34m\" minutes in order to avoid limit rate...\"\u001b[0m\u001b[0;34m)\u001b[0m\u001b[0;34m\u001b[0m\u001b[0;34m\u001b[0m\u001b[0m\n\u001b[0;32m---> 22\u001b[0;31m     \u001b[0mtime\u001b[0m\u001b[0;34m.\u001b[0m\u001b[0msleep\u001b[0m\u001b[0;34m(\u001b[0m\u001b[0mSleep_time_seconds\u001b[0m\u001b[0;34m)\u001b[0m\u001b[0;34m\u001b[0m\u001b[0;34m\u001b[0m\u001b[0m\n\u001b[0m",
      "\u001b[0;31mKeyboardInterrupt\u001b[0m: "
     ]
    }
   ],
   "source": [
    "Sleep_time_seconds = 60\n",
    "Extracting_tweets_time_in_seconds = 120\n",
    "while(True):\n",
    "    clear_output(wait=True)\n",
    "    display(\"Begin Stream Listener\")\n",
    "    #Consumer API keys\n",
    "    consumer_key = '*' #(API key)\n",
    "    consumer_secret = '*' #(API secret key)\n",
    "\n",
    "    #Access token & access token secret\n",
    "    access_token = '*' #(Access token)\n",
    "    access_token_secret = '*' #(Access token secret)\n",
    "\n",
    "    auth = tweepy.OAuthHandler(consumer_key, consumer_secret)\n",
    "    auth.set_access_token(access_token, access_token_secret)\n",
    "    api = tweepy.API(auth)\n",
    "\n",
    "    myStreamListener = MyStreamListener(start_time=time.time(),time_limit=Extracting_tweets_time_in_seconds,file = \"raw_tweets\")\n",
    "    myStream = tweepy.Stream(auth = api.auth, listener=myStreamListener)\n",
    "    myStream.filter(track=['موت'],languages=['ur'])\n",
    "    display(\"Sleeping for: \"+str(round(Sleep_time_seconds/60,3))+\" minutes in order to avoid limit rate...\")\n",
    "    time.sleep(Sleep_time_seconds)"
   ]
  },
  {
   "cell_type": "code",
   "execution_count": null,
   "metadata": {},
   "outputs": [],
   "source": []
  }
 ],
 "metadata": {
  "kernelspec": {
   "display_name": "Python 3",
   "language": "python",
   "name": "python3"
  },
  "language_info": {
   "codemirror_mode": {
    "name": "ipython",
    "version": 3
   },
   "file_extension": ".py",
   "mimetype": "text/x-python",
   "name": "python",
   "nbconvert_exporter": "python",
   "pygments_lexer": "ipython3",
   "version": "3.7.3"
  }
 },
 "nbformat": 4,
 "nbformat_minor": 2
}
